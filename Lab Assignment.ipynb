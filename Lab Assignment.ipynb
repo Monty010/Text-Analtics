{
 "cells": [
  {
   "cell_type": "code",
   "execution_count": 1,
   "id": "2c3fdfb5-eb13-4baa-8cce-d270bd6adf7a",
   "metadata": {},
   "outputs": [],
   "source": [
    "import re\n",
    "import json\n",
    "import requests\n",
    "import csv\n",
    "import datetime\n",
    "\n",
    "# Shopee product URL (change accordingly)\n",
    "url = 'https://shopee.com.my/GEESO-Mini-Fascia-Massage-Gun-6-Speeds-With-4-Massage-Heads-LCD-Screen-Digital-Display-Compact-Size-Portable-Muscle-Relaxation-Device-Silent-Vibration-Massage-Fitness-Gun-迷你筋膜枪-i.229907985.19580859035'\n",
    "\n",
    "r = re.search(r'i\\.(\\d+)\\.(\\d+)', url)\n",
    "if r:\n",
    "    shop_id, item_id = r.group(1), r.group(2)\n",
    "else:\n",
    "    print(\"Invalid URL\")\n",
    "    exit()"
   ]
  },
  {
   "cell_type": "code",
   "execution_count": 2,
   "id": "2e55c190-ee71-417e-b512-5f5fe9b3bdc0",
   "metadata": {},
   "outputs": [],
   "source": [
    "offset = 0\n",
    "limit = 30\n",
    "ratings_url = f'https://shopee.com.my/api/v2/item/get_ratings?filter=0&flag=1&itemid={item_id}&limit={limit}&offset={offset}&shopid={shop_id}&type=0'\n",
    "response = requests.get(ratings_url).json()"
   ]
  },
  {
   "cell_type": "code",
   "execution_count": 3,
   "id": "44440f2a-ab65-4d84-96ab-ef2cfa9b0ab3",
   "metadata": {},
   "outputs": [],
   "source": [
    "reviews = []"
   ]
  },
  {
   "cell_type": "code",
   "execution_count": 3,
   "id": "94431716-2f22-46ae-965c-2aca006b43b8",
   "metadata": {},
   "outputs": [
    {
     "ename": "SyntaxError",
     "evalue": "invalid syntax (2532996656.py, line 3)",
     "output_type": "error",
     "traceback": [
      "\u001b[0;36m  Cell \u001b[0;32mIn[3], line 3\u001b[0;36m\u001b[0m\n\u001b[0;31m    content = rating['shopee.reviews.csv'].\u001b[0m\n\u001b[0m                                           ^\u001b[0m\n\u001b[0;31mSyntaxError\u001b[0m\u001b[0;31m:\u001b[0m invalid syntax\n"
     ]
    }
   ],
   "source": [
    "for rating in response['data']['ratings']:\n",
    "        profile_name = rating[''] # put the field name inside '' (navigate to the 'ratings_url' to find the field names)\n",
    "        content = rating['shopee.reviews.csv'].\n",
    "        date = datetime.datetime.fromtimestamp(rating[''])\n",
    "\n",
    "        formatted_date = date.strftime(\"%Y-%m-%d\")\n",
    "\n",
    "        reviews.append({'Reviewer': profile_name, 'Date': formatted_date, 'Content': content})"
   ]
  },
  {
   "cell_type": "code",
   "execution_count": 2,
   "id": "a9b9c562-bfe0-4a4a-b755-4c6ab6267095",
   "metadata": {},
   "outputs": [
    {
     "ename": "NameError",
     "evalue": "name 'csv' is not defined",
     "output_type": "error",
     "traceback": [
      "\u001b[0;31m---------------------------------------------------------------------------\u001b[0m",
      "\u001b[0;31mNameError\u001b[0m                                 Traceback (most recent call last)",
      "Cell \u001b[0;32mIn[2], line 2\u001b[0m\n\u001b[1;32m      1\u001b[0m \u001b[38;5;28;01mwith\u001b[39;00m \u001b[38;5;28mopen\u001b[39m(\u001b[38;5;124m'\u001b[39m\u001b[38;5;124mreviews.csv\u001b[39m\u001b[38;5;124m'\u001b[39m, \u001b[38;5;124m'\u001b[39m\u001b[38;5;124mw\u001b[39m\u001b[38;5;124m'\u001b[39m, newline\u001b[38;5;241m=\u001b[39m\u001b[38;5;124m'\u001b[39m\u001b[38;5;124m'\u001b[39m, encoding\u001b[38;5;241m=\u001b[39m\u001b[38;5;124m'\u001b[39m\u001b[38;5;124mutf-8\u001b[39m\u001b[38;5;124m'\u001b[39m) \u001b[38;5;28;01mas\u001b[39;00m csvfile:\n\u001b[0;32m----> 2\u001b[0m     writer \u001b[38;5;241m=\u001b[39m csv\u001b[38;5;241m.\u001b[39mDictWriter(csvfile, fieldnames\u001b[38;5;241m=\u001b[39m[\u001b[38;5;124m'\u001b[39m\u001b[38;5;124mReviewer\u001b[39m\u001b[38;5;124m'\u001b[39m, \u001b[38;5;124m'\u001b[39m\u001b[38;5;124mDate\u001b[39m\u001b[38;5;124m'\u001b[39m, \u001b[38;5;124m'\u001b[39m\u001b[38;5;124mContent\u001b[39m\u001b[38;5;124m'\u001b[39m])\n\u001b[1;32m      3\u001b[0m     writer\u001b[38;5;241m.\u001b[39mwriteheader()\n\u001b[1;32m      4\u001b[0m     writer\u001b[38;5;241m.\u001b[39mwriterows(reviews)\n",
      "\u001b[0;31mNameError\u001b[0m: name 'csv' is not defined"
     ]
    }
   ],
   "source": [
    "with open('reviews.csv', 'w', newline='', encoding='utf-8') as csvfile:\n",
    "    writer = csv.DictWriter(csvfile, fieldnames=['Reviewer', 'Date', 'Content'])\n",
    "    writer.writeheader()\n",
    "    writer.writerows(reviews)\n",
    "\n",
    "print(\"Reviews have been saved to reviews.csv\")"
   ]
  }
 ],
 "metadata": {
  "kernelspec": {
   "display_name": "Python 3 (ipykernel)",
   "language": "python",
   "name": "python3"
  },
  "language_info": {
   "codemirror_mode": {
    "name": "ipython",
    "version": 3
   },
   "file_extension": ".py",
   "mimetype": "text/x-python",
   "name": "python",
   "nbconvert_exporter": "python",
   "pygments_lexer": "ipython3",
   "version": "3.11.7"
  }
 },
 "nbformat": 4,
 "nbformat_minor": 5
}
