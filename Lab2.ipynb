{
 "cells": [
  {
   "cell_type": "code",
   "execution_count": 2,
   "id": "616d3d37-7b81-45c6-82ce-3d6ec91a3d37",
   "metadata": {},
   "outputs": [],
   "source": [
    "#importing regular expression library \n",
    "import re"
   ]
  },
  {
   "cell_type": "code",
   "execution_count": 3,
   "id": "4c1c8ccc-f44f-4f2a-a405-bdaa1806fda1",
   "metadata": {},
   "outputs": [
    {
     "name": "stdout",
     "output_type": "stream",
     "text": [
      "<re.Match object; span=(0, 1), match='I'>\n"
     ]
    }
   ],
   "source": [
    "#using re.match \n",
    "#to find the first occurrence of the letter 'I' in the string \n",
    " \n",
    "sentence1 = re.match (r'I', 'I am learning text analytics') \n",
    "print (sentence1)\n"
   ]
  },
  {
   "cell_type": "code",
   "execution_count": 4,
   "id": "8de5b302-5512-4d14-9efa-95621281b22d",
   "metadata": {},
   "outputs": [
    {
     "name": "stdout",
     "output_type": "stream",
     "text": [
      "None\n"
     ]
    }
   ],
   "source": [
    "#using re.match \n",
    "#to find the first occurrence of the letter 'v' in the string \n",
    " \n",
    "sentence2 = re.match (r'v', 'I am learning text analytics') \n",
    "print (sentence2)"
   ]
  },
  {
   "cell_type": "code",
   "execution_count": 5,
   "id": "7273d41d-8390-48fd-aa4a-ac41d2132dd8",
   "metadata": {},
   "outputs": [
    {
     "name": "stdout",
     "output_type": "stream",
     "text": [
      "None\n"
     ]
    }
   ],
   "source": [
    "#using re.match \n",
    "#to find the first occurrence of the letter 'am' in the string \n",
    " \n",
    "sentence3 = re.match (r'am', 'I am learning text analytics') \n",
    "print (sentence3)"
   ]
  },
  {
   "cell_type": "code",
   "execution_count": 7,
   "id": "8f2da856-2a66-4f6e-a2ed-ea891d571013",
   "metadata": {},
   "outputs": [
    {
     "name": "stdout",
     "output_type": "stream",
     "text": [
      "<re.Match object; span=(2, 4), match='am'>\n"
     ]
    }
   ],
   "source": [
    "sentence4 = re.search(r'am', 'I am learning text analytics')\n",
    "print (sentence4)"
   ]
  },
  {
   "cell_type": "code",
   "execution_count": 8,
   "id": "cfb4c57b-ea54-4c20-b8bd-506b598270c2",
   "metadata": {},
   "outputs": [
    {
     "name": "stdout",
     "output_type": "stream",
     "text": [
      "<re.Match object; span=(2, 4), match='am'>\n"
     ]
    }
   ],
   "source": [
    "sentence5 = re.search(r'am', 'I am learning text analytics and am enjoying it')  \n",
    "print (sentence5)"
   ]
  },
  {
   "cell_type": "code",
   "execution_count": 9,
   "id": "f4d1ce06-76fb-4aab-ac83-e9cc4923f3be",
   "metadata": {},
   "outputs": [
    {
     "name": "stdout",
     "output_type": "stream",
     "text": [
      "['am', 'am']\n"
     ]
    }
   ],
   "source": [
    "sentence6 = re.findall(r'am', 'I am learning text analytics and am enjoying it')  \n",
    "print (sentence6)"
   ]
  },
  {
   "cell_type": "code",
   "execution_count": 10,
   "id": "d49818e0-7597-456a-ab5a-f2e4b8833000",
   "metadata": {},
   "outputs": [
    {
     "name": "stdout",
     "output_type": "stream",
     "text": [
      "['I am learning text analytics ', ' am enjoying it']\n"
     ]
    }
   ],
   "source": [
    "sentence7 = re.split(r'and', 'I am learning text analytics and am enjoying it')  \n",
    "print (sentence7)"
   ]
  },
  {
   "cell_type": "code",
   "execution_count": 11,
   "id": "99bdd983-ec4b-4faf-a1e0-440e846bde20",
   "metadata": {},
   "outputs": [
    {
     "name": "stdout",
     "output_type": "stream",
     "text": [
      "['I ', ' learning text analytics and ', ' enjoying it']\n"
     ]
    }
   ],
   "source": [
    "sentence8 = re.split(r'am', 'I am learning text analytics and am enjoying it')  \n",
    "print (sentence8)"
   ]
  },
  {
   "cell_type": "code",
   "execution_count": 12,
   "id": "22541dae-0fc5-424b-bdc6-492c8d3c4bee",
   "metadata": {},
   "outputs": [
    {
     "name": "stdout",
     "output_type": "stream",
     "text": [
      "['I ', ' learning text analytics and am enjoying it']\n"
     ]
    }
   ],
   "source": [
    "sentence9 = re.split(r'am', 'I am learning text analytics and am enjoying it', maxsplit=1) \n",
    "print (sentence9)"
   ]
  },
  {
   "cell_type": "code",
   "execution_count": 13,
   "id": "47b67116-eb94-4c50-8192-1bf561e1c2f8",
   "metadata": {},
   "outputs": [
    {
     "name": "stdout",
     "output_type": "stream",
     "text": [
      "['I ', ' learning text analytics and ', ' enjoying it']\n"
     ]
    }
   ],
   "source": [
    "sentence9 = re.split(r'am', 'I am learning text analytics and am enjoying it', maxsplit=2) \n",
    "print (sentence9)"
   ]
  },
  {
   "cell_type": "code",
   "execution_count": 14,
   "id": "9243179c-4e49-4bfa-b541-7d3a40ee52d5",
   "metadata": {},
   "outputs": [
    {
     "name": "stdout",
     "output_type": "stream",
     "text": [
      "['I ', ' learning text analytics, I ', ' enjoying it and I ', ' going to ace it']\n"
     ]
    }
   ],
   "source": [
    "sentence10 = re.split(r'am', 'I am learning text analytics, I am enjoying it and I am going to ace it', maxsplit=3) \n",
    "print (sentence10)"
   ]
  },
  {
   "cell_type": "code",
   "execution_count": 15,
   "id": "6f75b368-ef88-4ddf-90e0-1df6334e58c9",
   "metadata": {},
   "outputs": [
    {
     "name": "stdout",
     "output_type": "stream",
     "text": [
      "we like text analytics and we enjoy learning it\n"
     ]
    }
   ],
   "source": [
    "sentence11 = re.sub(r'I', 'we', 'I like text analytics and I enjoy learning it') \n",
    "print (sentence11)"
   ]
  },
  {
   "cell_type": "code",
   "execution_count": 16,
   "id": "91913262-0a4b-4ba8-a92b-1896321a1060",
   "metadata": {},
   "outputs": [
    {
     "name": "stdout",
     "output_type": "stream",
     "text": [
      "['I', ' ', 'a', 'm', ' ', 'l', 'e', 'a', 'r', 'n', 'i', 'n', 'g', ' ', 't', 'e', 'x', 't', ' ', 'a', 'n', 'a', 'l', 'y', 't', 'i', 'c', 's']\n"
     ]
    }
   ],
   "source": [
    "sentence1 = re.findall (r'.', 'I am learning text analytics') \n",
    "print (sentence1) \n",
    " \n",
    "# Each letter is selected including spaces"
   ]
  },
  {
   "cell_type": "code",
   "execution_count": 18,
   "id": "800e79d3-aefe-4616-93ee-86fa38c8b3de",
   "metadata": {},
   "outputs": [
    {
     "name": "stdout",
     "output_type": "stream",
     "text": [
      "['I', 'a', 'm', 'l', 'e', 'a', 'r', 'n', 'i', 'n', 'g', 't', 'e', 'x', 't', 'a', 'n', 'a', 'l', 'y', 't', 'i', 'c', 's']\n"
     ]
    }
   ],
   "source": [
    "sentence2 = re.findall (r'\\w', 'I am learning text analytics')\n",
    "print (sentence2)\n",
    " \n",
    "# Each letter is selected excluding spaces"
   ]
  },
  {
   "cell_type": "code",
   "execution_count": 19,
   "id": "92fea24e-b8f8-4932-b271-467ff4e416b7",
   "metadata": {},
   "outputs": [
    {
     "name": "stdout",
     "output_type": "stream",
     "text": [
      "['I', '', 'am', '', 'learning', '', 'text', '', 'analytics', '']\n"
     ]
    }
   ],
   "source": [
    "sentence3 = re.findall (r'\\w*', 'I am learning text analytics') \n",
    "print (sentence3) \n",
    " \n",
    "# Each word is selected including spaces"
   ]
  },
  {
   "cell_type": "code",
   "execution_count": 20,
   "id": "384eabc1-4a0e-4aa1-baa5-8fd6579c1836",
   "metadata": {},
   "outputs": [
    {
     "name": "stdout",
     "output_type": "stream",
     "text": [
      "['I', 'am', 'learning', 'text', 'analytics']\n"
     ]
    }
   ],
   "source": [
    "sentence4 = re.findall (r'\\w+', 'I am learning text analytics') \n",
    "print (sentence4) \n",
    " \n",
    "# Each word is selected excluding spaces"
   ]
  },
  {
   "cell_type": "code",
   "execution_count": 21,
   "id": "a1715acc-c6c3-4f28-99e5-f503ec988379",
   "metadata": {},
   "outputs": [
    {
     "name": "stdout",
     "output_type": "stream",
     "text": [
      "['I']\n"
     ]
    }
   ],
   "source": [
    "sentence5 = re.findall (r'^\\w+', 'I am learning text analytics') \n",
    "print (sentence5) \n",
    " \n",
    "# First word is selected"
   ]
  },
  {
   "cell_type": "code",
   "execution_count": 22,
   "id": "55e22ca5-bead-4dcc-8fde-3be8d84ba833",
   "metadata": {},
   "outputs": [
    {
     "name": "stdout",
     "output_type": "stream",
     "text": [
      "['analytics']\n"
     ]
    }
   ],
   "source": [
    "sentence6 = re.findall (r'\\w+$', 'I am learning text analytics') \n",
    "print (sentence6) \n",
    " \n",
    "# Last word is selected"
   ]
  },
  {
   "cell_type": "code",
   "execution_count": 23,
   "id": "dc65bd80-5006-4f95-8d7f-ed16519dbbb0",
   "metadata": {},
   "outputs": [
    {
     "name": "stdout",
     "output_type": "stream",
     "text": [
      "['am', 'le', 'ar', 'ni', 'ng', 'te', 'xt', 'an', 'al', 'yt', 'ic']\n"
     ]
    }
   ],
   "source": [
    "sentence7 = re.findall (r'\\w\\w', 'I am learning text analytics') \n",
    "print (sentence7) \n",
    " \n",
    "# 2 consecutive characters are selected"
   ]
  },
  {
   "cell_type": "code",
   "execution_count": 24,
   "id": "b20b6ab4-30cb-459d-9e49-892eaf18fa77",
   "metadata": {},
   "outputs": [
    {
     "name": "stdout",
     "output_type": "stream",
     "text": [
      "['am', 'le', 'te', 'an']\n"
     ]
    }
   ],
   "source": [
    "sentence8 = re.findall (r'\\b\\w\\w', 'I am learning text analytics') \n",
    "print (sentence8)\n",
    " \n",
    "# 2 consecutive characters in a string are selected \n"
   ]
  },
  {
   "cell_type": "code",
   "execution_count": 25,
   "id": "9b009f2f-5852-450c-be3d-a9358ce3313c",
   "metadata": {},
   "outputs": [
    {
     "name": "stdout",
     "output_type": "stream",
     "text": [
      "['@text', '@analytics', '@textanalytics']\n"
     ]
    }
   ],
   "source": [
    "sentence9 = re.findall (r'@\\w+', 'user@text.com.my, user@analytics.gov.my, user@textanalytics.edu.my')\n",
    "print (sentence9) \n",
    " \n",
    "# Only the first word in the domain name is selected \n"
   ]
  },
  {
   "cell_type": "code",
   "execution_count": 26,
   "id": "ef2d267f-5955-4aff-9fd9-f1bcbeeec3d8",
   "metadata": {},
   "outputs": [
    {
     "name": "stdout",
     "output_type": "stream",
     "text": [
      "['@text.com', '@analytics.gov', '@textanalytics.edu']\n"
     ]
    }
   ],
   "source": [
    "sentence10 = re.findall (r'@\\w+.\\w+','user@text.com.my, user@analytics.gov.my, user@textanalytics.edu.my')\n",
    "print (sentence10)\n"
   ]
  },
  {
   "cell_type": "code",
   "execution_count": 27,
   "id": "e8aed73f-e07f-4990-81f9-cbaaa1b420bf",
   "metadata": {},
   "outputs": [
    {
     "name": "stdout",
     "output_type": "stream",
     "text": [
      "['@text.com.my', '@analytics.gov.my', '@textanalytics.edu.my']\n"
     ]
    }
   ],
   "source": [
    "sentence11 = re.findall (r'@\\w+.\\w+.\\w+', 'user@text.com.my, user@analytics.gov.my, user@textanalytics.edu.my')\n",
    "print (sentence11) \n",
    " \n",
    "# The full domain name is selected"
   ]
  },
  {
   "cell_type": "code",
   "execution_count": 46,
   "id": "d854d1e8-5c21-4900-b449-956d5a9e4a63",
   "metadata": {},
   "outputs": [
    {
     "name": "stdout",
     "output_type": "stream",
     "text": [
      "['com.my', 'gov.my']\n"
     ]
    }
   ],
   "source": [
    "# Solution  \n",
    " \n",
    "sentence12 = re.findall (r'@\\w+.(\\w+.\\w+)', 'user@text.com.my, user@analytics.gov.my, u')\n",
    "print (sentence12)\n",
    " \n",
    "# To display the type of domain"
   ]
  },
  {
   "cell_type": "code",
   "execution_count": 35,
   "id": "0a25a52d-e4a8-4180-b0b5-0ed94ef8241e",
   "metadata": {},
   "outputs": [
    {
     "name": "stdout",
     "output_type": "stream",
     "text": [
      "['15-05-20', '20-08-20']\n"
     ]
    }
   ],
   "source": [
    "sentence13 = re.findall (r'\\d{2}-\\d{2}-\\d{2}', 'Ahmad BIT(IS) 15-05-2001, Johnny BCS(SE) 20-08-2000')\n",
    "print (sentence13) \n",
    " \n",
    "# To display the date in the format of dd-mm-yy"
   ]
  },
  {
   "cell_type": "code",
   "execution_count": 36,
   "id": "4eb523df-3b9c-46a1-8cc7-5c505bb22455",
   "metadata": {},
   "outputs": [
    {
     "name": "stdout",
     "output_type": "stream",
     "text": [
      "['15-05-2001', '20-08-2000']\n"
     ]
    }
   ],
   "source": [
    "sentence14 = re.findall (r'\\d{2}-\\d{2}-\\d{4}', 'Ahmad BIT(IS) 15-05-2001, Johnny BCS(SE) 20-08-2000')\n",
    "print (sentence14) \n",
    " \n",
    "# To display the date in the format of dd-mm-yyyy"
   ]
  },
  {
   "cell_type": "code",
   "execution_count": 37,
   "id": "3dbcbc57-0f3c-44a6-94b2-7799de132bd4",
   "metadata": {},
   "outputs": [
    {
     "name": "stdout",
     "output_type": "stream",
     "text": [
      "['2001', '2000']\n"
     ]
    }
   ],
   "source": [
    "sentence15 = re.findall (r'\\d{2}-\\d{2}-(\\d{4})', 'Ahmad BIT(IS) 15-05-2001, Johnny BCS(SE) 20-08-2000')\n",
    "print (sentence15) \n",
    " \n",
    "# Only the year will be displayed"
   ]
  },
  {
   "cell_type": "code",
   "execution_count": 38,
   "id": "0b79b9d4-8742-4d07-bf1e-7b2006c3231e",
   "metadata": {},
   "outputs": [
    {
     "name": "stdout",
     "output_type": "stream",
     "text": [
      "['ave', 'eight', 'ory', 'ooks', 'often', 'ead', 'em', 'in', 'afternoon']\n"
     ]
    }
   ],
   "source": [
    "sentence16 = re.findall (r'[aeiouAEIOU]\\w+', 'I have eight story books. I often read them in afternoon')\n",
    "print (sentence16)\n",
    " \n",
    "# A sequence that starts with a vowel followed by one o rmore characters are selected"
   ]
  },
  {
   "cell_type": "code",
   "execution_count": 39,
   "id": "62ff897e-ab86-4d90-9170-b6483b642740",
   "metadata": {},
   "outputs": [
    {
     "name": "stdout",
     "output_type": "stream",
     "text": [
      "['eight', 'often', 'in', 'afternoon']\n"
     ]
    }
   ],
   "source": [
    "sentence17 = re.findall (r'\\b[aeiouAEIOU]\\w+', 'I have eight story books. I often read them in afternoon')\n",
    "print (sentence17) \n",
    " \n",
    "# Only words that start with vowels are selected"
   ]
  },
  {
   "cell_type": "code",
   "execution_count": 40,
   "id": "38e76507-d0e3-437e-9dd3-234c80610033",
   "metadata": {},
   "outputs": [
    {
     "name": "stdout",
     "output_type": "stream",
     "text": [
      "['have', 'story', 'books', 'read', 'them']\n"
     ]
    }
   ],
   "source": [
    "sentence18 = re.findall (r'\\b[^aeiouAEIOU\\s]\\w+', 'I have eight story books. I often read them in afternoon')\n",
    "print (sentence18) \n",
    " \n",
    "# Only words that start with non-vowels are selected"
   ]
  },
  {
   "cell_type": "code",
   "execution_count": 43,
   "id": "b1662930-905a-49c7-9064-c075a198347d",
   "metadata": {},
   "outputs": [
    {
     "name": "stdout",
     "output_type": "stream",
     "text": [
      "['I have many story books', ' colouring books', ' I often read them in the afternoon.']\n"
     ]
    }
   ],
   "source": [
    "sentence19 = re.split (r'[;,]', 'I have many story books, colouring books; I often read them in the afternoon.')\n",
    "print (sentence19) \n",
    " \n",
    "# split the words based on the delimiters semi colon and comma"
   ]
  },
  {
   "cell_type": "code",
   "execution_count": 44,
   "id": "77523838-e225-4af9-ac84-4f0d62361d49",
   "metadata": {},
   "outputs": [
    {
     "name": "stdout",
     "output_type": "stream",
     "text": [
      "['I', 'have', 'many', 'story', 'books', '', 'colouring', 'books', '', 'I', 'often', 'read', 'them', 'in', 'the', 'afternoon.']\n"
     ]
    }
   ],
   "source": [
    "sentence20 = re.split (r'[;,\\s]', 'I have many story books, colouring books; I often read them in the afternoon.')\n",
    "print (sentence20) \n",
    " \n",
    "# split the words based on the delimiters semi colon, comma and space"
   ]
  },
  {
   "cell_type": "code",
   "execution_count": 45,
   "id": "aa4e0873-c6b8-4d17-acf1-f24dc8e36373",
   "metadata": {},
   "outputs": [
    {
     "name": "stdout",
     "output_type": "stream",
     "text": [
      "I have many story books. colouring books. I often read them in the afternoon.\n"
     ]
    }
   ],
   "source": [
    "sentence21 = re.sub (r'[;,]', '.', 'I have many story books, colouring books; I often read them in the afternoon.')\n",
    "print (sentence21) \n",
    " \n",
    "# Substitute the delimiters semi colon and comma with fullstop"
   ]
  },
  {
   "cell_type": "code",
   "execution_count": null,
   "id": "5404e3f5-2c8a-4446-b635-8fa06b592570",
   "metadata": {},
   "outputs": [],
   "source": []
  }
 ],
 "metadata": {
  "kernelspec": {
   "display_name": "Python 3 (ipykernel)",
   "language": "python",
   "name": "python3"
  },
  "language_info": {
   "codemirror_mode": {
    "name": "ipython",
    "version": 3
   },
   "file_extension": ".py",
   "mimetype": "text/x-python",
   "name": "python",
   "nbconvert_exporter": "python",
   "pygments_lexer": "ipython3",
   "version": "3.11.7"
  }
 },
 "nbformat": 4,
 "nbformat_minor": 5
}
